{
 "cells": [
  {
   "cell_type": "code",
   "execution_count": 0,
   "metadata": {
    "application/vnd.databricks.v1+cell": {
     "cellMetadata": {
      "byteLimit": 2048000,
      "rowLimit": 10000
     },
     "inputWidgets": {},
     "nuid": "f1f05b79-9dcb-4ff9-9909-11dfa68351ca",
     "showTitle": false,
     "title": ""
    }
   },
   "outputs": [
    {
     "output_type": "display_data",
     "data": {
      "text/html": [
       "<style scoped>\n",
       "  .table-result-container {\n",
       "    max-height: 300px;\n",
       "    overflow: auto;\n",
       "  }\n",
       "  table, th, td {\n",
       "    border: 1px solid black;\n",
       "    border-collapse: collapse;\n",
       "  }\n",
       "  th, td {\n",
       "    padding: 5px;\n",
       "  }\n",
       "  th {\n",
       "    text-align: left;\n",
       "  }\n",
       "</style><div class='table-result-container'><table class='table-result'><thead style='background-color: white'><tr><th>account_id</th><th>balance</th><th>last_updated</th><th>account_name</th><th>account_id_flag</th><th>account_id_issue</th><th>balance_flag</th><th>balance_issue</th><th>last_updated_flag</th><th>last_updated_issue</th><th>account_name_flag</th><th>account_name_issue</th></tr></thead><tbody><tr><td>123</td><td>100.0</td><td>2024-04-28</td><td>Account1</td><td>true</td><td>null</td><td>true</td><td>null</td><td>true</td><td>null</td><td>true</td><td>null</td></tr></tbody></table></div>"
      ]
     },
     "metadata": {
      "application/vnd.databricks.v1+output": {
       "addedWidgets": {},
       "aggData": [],
       "aggError": "",
       "aggOverflow": false,
       "aggSchema": [],
       "aggSeriesLimitReached": false,
       "aggType": "",
       "arguments": {},
       "columnCustomDisplayInfos": {},
       "data": [
        [
         "123",
         100.0,
         "2024-04-28",
         "Account1",
         true,
         null,
         true,
         null,
         true,
         null,
         true,
         null
        ]
       ],
       "datasetInfos": [],
       "dbfsResultPath": null,
       "isJsonSchema": true,
       "metadata": {},
       "overflow": false,
       "plotOptions": {
        "customPlotOptions": {},
        "displayType": "table",
        "pivotAggregation": null,
        "pivotColumns": null,
        "xColumns": null,
        "yColumns": null
       },
       "removedWidgets": [],
       "schema": [
        {
         "metadata": "{}",
         "name": "account_id",
         "type": "\"string\""
        },
        {
         "metadata": "{}",
         "name": "balance",
         "type": "\"float\""
        },
        {
         "metadata": "{}",
         "name": "last_updated",
         "type": "\"string\""
        },
        {
         "metadata": "{}",
         "name": "account_name",
         "type": "\"string\""
        },
        {
         "metadata": "{}",
         "name": "account_id_flag",
         "type": "\"boolean\""
        },
        {
         "metadata": "{}",
         "name": "account_id_issue",
         "type": "\"string\""
        },
        {
         "metadata": "{}",
         "name": "balance_flag",
         "type": "\"boolean\""
        },
        {
         "metadata": "{}",
         "name": "balance_issue",
         "type": "\"string\""
        },
        {
         "metadata": "{}",
         "name": "last_updated_flag",
         "type": "\"boolean\""
        },
        {
         "metadata": "{}",
         "name": "last_updated_issue",
         "type": "\"string\""
        },
        {
         "metadata": "{}",
         "name": "account_name_flag",
         "type": "\"boolean\""
        },
        {
         "metadata": "{}",
         "name": "account_name_issue",
         "type": "\"string\""
        }
       ],
       "type": "table"
      }
     },
     "output_type": "display_data"
    },
    {
     "output_type": "display_data",
     "data": {
      "text/html": [
       "<style scoped>\n",
       "  .table-result-container {\n",
       "    max-height: 300px;\n",
       "    overflow: auto;\n",
       "  }\n",
       "  table, th, td {\n",
       "    border: 1px solid black;\n",
       "    border-collapse: collapse;\n",
       "  }\n",
       "  th, td {\n",
       "    padding: 5px;\n",
       "  }\n",
       "  th {\n",
       "    text-align: left;\n",
       "  }\n",
       "</style><div class='table-result-container'><table class='table-result'><thead style='background-color: white'><tr><th>account_id</th><th>balance</th><th>last_updated</th><th>account_name</th><th>account_id_flag</th><th>account_id_issue</th><th>balance_flag</th><th>balance_issue</th><th>last_updated_flag</th><th>last_updated_issue</th><th>account_name_flag</th><th>account_name_issue</th></tr></thead><tbody><tr><td></td><td>200.0</td><td>2024-04-29</td><td>Account2</td><td>true</td><td>null</td><td>true</td><td>null</td><td>true</td><td>null</td><td>true</td><td>null</td></tr></tbody></table></div>"
      ]
     },
     "metadata": {
      "application/vnd.databricks.v1+output": {
       "addedWidgets": {},
       "aggData": [],
       "aggError": "",
       "aggOverflow": false,
       "aggSchema": [],
       "aggSeriesLimitReached": false,
       "aggType": "",
       "arguments": {},
       "columnCustomDisplayInfos": {},
       "data": [
        [
         "",
         200.0,
         "2024-04-29",
         "Account2",
         true,
         null,
         true,
         null,
         true,
         null,
         true,
         null
        ]
       ],
       "datasetInfos": [],
       "dbfsResultPath": null,
       "isJsonSchema": true,
       "metadata": {},
       "overflow": false,
       "plotOptions": {
        "customPlotOptions": {},
        "displayType": "table",
        "pivotAggregation": null,
        "pivotColumns": null,
        "xColumns": null,
        "yColumns": null
       },
       "removedWidgets": [],
       "schema": [
        {
         "metadata": "{}",
         "name": "account_id",
         "type": "\"string\""
        },
        {
         "metadata": "{}",
         "name": "balance",
         "type": "\"float\""
        },
        {
         "metadata": "{}",
         "name": "last_updated",
         "type": "\"string\""
        },
        {
         "metadata": "{}",
         "name": "account_name",
         "type": "\"string\""
        },
        {
         "metadata": "{}",
         "name": "account_id_flag",
         "type": "\"boolean\""
        },
        {
         "metadata": "{}",
         "name": "account_id_issue",
         "type": "\"string\""
        },
        {
         "metadata": "{}",
         "name": "balance_flag",
         "type": "\"boolean\""
        },
        {
         "metadata": "{}",
         "name": "balance_issue",
         "type": "\"string\""
        },
        {
         "metadata": "{}",
         "name": "last_updated_flag",
         "type": "\"boolean\""
        },
        {
         "metadata": "{}",
         "name": "last_updated_issue",
         "type": "\"string\""
        },
        {
         "metadata": "{}",
         "name": "account_name_flag",
         "type": "\"boolean\""
        },
        {
         "metadata": "{}",
         "name": "account_name_issue",
         "type": "\"string\""
        }
       ],
       "type": "table"
      }
     },
     "output_type": "display_data"
    },
    {
     "output_type": "display_data",
     "data": {
      "text/html": [
       "<style scoped>\n",
       "  .table-result-container {\n",
       "    max-height: 300px;\n",
       "    overflow: auto;\n",
       "  }\n",
       "  table, th, td {\n",
       "    border: 1px solid black;\n",
       "    border-collapse: collapse;\n",
       "  }\n",
       "  th, td {\n",
       "    padding: 5px;\n",
       "  }\n",
       "  th {\n",
       "    text-align: left;\n",
       "  }\n",
       "</style><div class='table-result-container'><table class='table-result'><thead style='background-color: white'><tr><th>account_id</th><th>balance</th><th>last_updated</th><th>account_name</th><th>account_id_flag</th><th>account_id_issue</th><th>balance_flag</th><th>balance_issue</th><th>last_updated_flag</th><th>last_updated_issue</th><th>account_name_flag</th><th>account_name_issue</th></tr></thead><tbody><tr><td>125</td><td>-50.0</td><td></td><td>Account3</td><td>true</td><td>null</td><td>false</td><td>non-positive value</td><td>true</td><td>null</td><td>true</td><td>null</td></tr></tbody></table></div>"
      ]
     },
     "metadata": {
      "application/vnd.databricks.v1+output": {
       "addedWidgets": {},
       "aggData": [],
       "aggError": "",
       "aggOverflow": false,
       "aggSchema": [],
       "aggSeriesLimitReached": false,
       "aggType": "",
       "arguments": {},
       "columnCustomDisplayInfos": {},
       "data": [
        [
         "125",
         -50.0,
         "",
         "Account3",
         true,
         null,
         false,
         "non-positive value",
         true,
         null,
         true,
         null
        ]
       ],
       "datasetInfos": [],
       "dbfsResultPath": null,
       "isJsonSchema": true,
       "metadata": {},
       "overflow": false,
       "plotOptions": {
        "customPlotOptions": {},
        "displayType": "table",
        "pivotAggregation": null,
        "pivotColumns": null,
        "xColumns": null,
        "yColumns": null
       },
       "removedWidgets": [],
       "schema": [
        {
         "metadata": "{}",
         "name": "account_id",
         "type": "\"string\""
        },
        {
         "metadata": "{}",
         "name": "balance",
         "type": "\"float\""
        },
        {
         "metadata": "{}",
         "name": "last_updated",
         "type": "\"string\""
        },
        {
         "metadata": "{}",
         "name": "account_name",
         "type": "\"string\""
        },
        {
         "metadata": "{}",
         "name": "account_id_flag",
         "type": "\"boolean\""
        },
        {
         "metadata": "{}",
         "name": "account_id_issue",
         "type": "\"string\""
        },
        {
         "metadata": "{}",
         "name": "balance_flag",
         "type": "\"boolean\""
        },
        {
         "metadata": "{}",
         "name": "balance_issue",
         "type": "\"string\""
        },
        {
         "metadata": "{}",
         "name": "last_updated_flag",
         "type": "\"boolean\""
        },
        {
         "metadata": "{}",
         "name": "last_updated_issue",
         "type": "\"string\""
        },
        {
         "metadata": "{}",
         "name": "account_name_flag",
         "type": "\"boolean\""
        },
        {
         "metadata": "{}",
         "name": "account_name_issue",
         "type": "\"string\""
        }
       ],
       "type": "table"
      }
     },
     "output_type": "display_data"
    },
    {
     "output_type": "display_data",
     "data": {
      "text/html": [
       "<style scoped>\n",
       "  .table-result-container {\n",
       "    max-height: 300px;\n",
       "    overflow: auto;\n",
       "  }\n",
       "  table, th, td {\n",
       "    border: 1px solid black;\n",
       "    border-collapse: collapse;\n",
       "  }\n",
       "  th, td {\n",
       "    padding: 5px;\n",
       "  }\n",
       "  th {\n",
       "    text-align: left;\n",
       "  }\n",
       "</style><div class='table-result-container'><table class='table-result'><thead style='background-color: white'><tr><th>account_id</th><th>balance</th><th>last_updated</th><th>account_name</th><th>account_id_flag</th><th>account_id_issue</th><th>balance_flag</th><th>balance_issue</th><th>last_updated_flag</th><th>last_updated_issue</th><th>account_name_flag</th><th>account_name_issue</th></tr></thead><tbody><tr><td>126</td><td>300.0</td><td>2024-04-30</td><td></td><td>true</td><td>null</td><td>true</td><td>null</td><td>true</td><td>null</td><td>false</td><td>empty string</td></tr></tbody></table></div>"
      ]
     },
     "metadata": {
      "application/vnd.databricks.v1+output": {
       "addedWidgets": {},
       "aggData": [],
       "aggError": "",
       "aggOverflow": false,
       "aggSchema": [],
       "aggSeriesLimitReached": false,
       "aggType": "",
       "arguments": {},
       "columnCustomDisplayInfos": {},
       "data": [
        [
         "126",
         300.0,
         "2024-04-30",
         "",
         true,
         null,
         true,
         null,
         true,
         null,
         false,
         "empty string"
        ]
       ],
       "datasetInfos": [],
       "dbfsResultPath": null,
       "isJsonSchema": true,
       "metadata": {},
       "overflow": false,
       "plotOptions": {
        "customPlotOptions": {},
        "displayType": "table",
        "pivotAggregation": null,
        "pivotColumns": null,
        "xColumns": null,
        "yColumns": null
       },
       "removedWidgets": [],
       "schema": [
        {
         "metadata": "{}",
         "name": "account_id",
         "type": "\"string\""
        },
        {
         "metadata": "{}",
         "name": "balance",
         "type": "\"float\""
        },
        {
         "metadata": "{}",
         "name": "last_updated",
         "type": "\"string\""
        },
        {
         "metadata": "{}",
         "name": "account_name",
         "type": "\"string\""
        },
        {
         "metadata": "{}",
         "name": "account_id_flag",
         "type": "\"boolean\""
        },
        {
         "metadata": "{}",
         "name": "account_id_issue",
         "type": "\"string\""
        },
        {
         "metadata": "{}",
         "name": "balance_flag",
         "type": "\"boolean\""
        },
        {
         "metadata": "{}",
         "name": "balance_issue",
         "type": "\"string\""
        },
        {
         "metadata": "{}",
         "name": "last_updated_flag",
         "type": "\"boolean\""
        },
        {
         "metadata": "{}",
         "name": "last_updated_issue",
         "type": "\"string\""
        },
        {
         "metadata": "{}",
         "name": "account_name_flag",
         "type": "\"boolean\""
        },
        {
         "metadata": "{}",
         "name": "account_name_issue",
         "type": "\"string\""
        }
       ],
       "type": "table"
      }
     },
     "output_type": "display_data"
    }
   ],
   "source": [
    "from pyspark.sql import SparkSession\n",
    "from pyspark.sql.functions import col, isnan, when, trim\n",
    "from pyspark.sql.types import StructType, StructField, StringType, IntegerType, FloatType\n",
    "from queue import Queue\n",
    "import threading\n",
    "\n",
    "# Initialize Spark Session\n",
    "spark = SparkSession.builder.appName(\"metadata_driven_etl\").getOrCreate()\n",
    "\n",
    "# Define metadata inline\n",
    "metadata = [\n",
    "    {\"field\": \"account_id\", \"rule\": \"not_null\"},\n",
    "    {\"field\": \"balance\", \"rule\": \"is_positive\"},\n",
    "    {\"field\": \"last_updated\", \"rule\": \"no_nan\"},\n",
    "    {\"field\": \"account_name\", \"rule\": \"non_empty_string\"},\n",
    "    # Add more field-rule pairs as needed\n",
    "]\n",
    "\n",
    "schema = StructType([\n",
    "    StructField(\"account_id\", StringType(), True),\n",
    "    StructField(\"balance\", FloatType(), True),\n",
    "    StructField(\"last_updated\", StringType(), True),\n",
    "    StructField(\"account_name\", StringType(), True)\n",
    "])\n",
    "\n",
    "# Define account data inline\n",
    "data = [(\"123\", 100.0, \"2024-04-28\", \"Account1\"),\n",
    "        (\"\", 200.0, \"2024-04-29\", \"Account2\"),\n",
    "        (\"125\", -50.0, \"\", \"Account3\"),\n",
    "        (\"126\", 300.0, \"2024-04-30\", \"\")]\n",
    "\n",
    "# Create a queue to simulate streaming data\n",
    "queue = Queue()\n",
    "\n",
    "# Function to simulate data streaming\n",
    "def stream_data(queue, data):\n",
    "    for record in data:\n",
    "        queue.put(record)\n",
    "\n",
    "# Start a new thread to simulate data streaming\n",
    "threading.Thread(target=stream_data, args=(queue, data)).start()\n",
    "\n",
    "while not queue.empty():\n",
    "    # Get the next record from the queue\n",
    "    record = queue.get()\n",
    "\n",
    "    # Create a DataFrame with the record\n",
    "    account_data = spark.createDataFrame([record], schema)\n",
    "\n",
    "    # Iterate over metadata to apply data quality rules\n",
    "    for row in metadata:\n",
    "        field = row[\"field\"]\n",
    "        rule = row[\"rule\"]\n",
    "        \n",
    "        # Apply rule and add a flag column\n",
    "        if rule == \"not_null\":\n",
    "            account_data = account_data.withColumn(f\"{field}_flag\", col(field).isNotNull())\n",
    "            account_data = account_data.withColumn(f\"{field}_issue\", when(col(field).isNull(), \"null value\"))\n",
    "        elif rule == \"is_positive\":\n",
    "            account_data = account_data.withColumn(f\"{field}_flag\", col(field) > 0)\n",
    "            account_data = account_data.withColumn(f\"{field}_issue\", when(col(field) <= 0, \"non-positive value\"))\n",
    "        elif rule == \"no_nan\":\n",
    "            account_data = account_data.withColumn(f\"{field}_flag\", ~isnan(col(field)))\n",
    "            account_data = account_data.withColumn(f\"{field}_issue\", when(isnan(col(field)), \"NaN value\"))\n",
    "        elif rule == \"non_empty_string\":\n",
    "            account_data = account_data.withColumn(f\"{field}_flag\", trim(col(field)) != \"\")\n",
    "            account_data = account_data.withColumn(f\"{field}_issue\", when(trim(col(field)) == \"\", \"empty string\"))\n",
    "        # Add more rules as needed\n",
    "\n",
    "    # Display the DataFrame\n",
    "    display(account_data)\n"
   ]
  }
 ],
 "metadata": {
  "application/vnd.databricks.v1+notebook": {
   "dashboards": [],
   "language": "python",
   "notebookMetadata": {
    "pythonIndentUnit": 4
   },
   "notebookName": "Streaming",
   "widgets": {}
  }
 },
 "nbformat": 4,
 "nbformat_minor": 0
}
